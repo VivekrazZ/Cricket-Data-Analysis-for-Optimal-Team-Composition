{
 "cells": [
  {
   "cell_type": "code",
   "execution_count": null,
   "id": "452119e0-8633-4c43-a9ea-6aaf943eca2d",
   "metadata": {},
   "outputs": [],
   "source": [
    "import requests\n",
    "from bs4 import BeautifulSoup\n",
    "\n",
    "url = 'https://stats.espncricinfo.com/ci/engine/records/team/match_results.html?id=14450;type=tournament'\n",
    "response = requests.get(url)\n",
    "html = response.text\n",
    "\n",
    "\n",
    "soup = BeautifulSoup(html, 'html.parser')\n",
    "matchSummary = []\n",
    "\n",
    "\n",
    "allRows = soup.select('table.ds-w-full.ds-table.ds-table-xs.ds-table-auto.ds-w-full.ds-overflow-scroll.ds-scrollbar-hide')\n",
    "\n",
    "\n",
    "for row in allRows:\n",
    "    tds = row.find_all('td')\n",
    "    a = 0\n",
    "    while(a<len(tds)):\n",
    "        matchSummary.append({\n",
    "            'team1': tds[a].get_text(),\n",
    "            'team2': tds[a+1].get_text(),\n",
    "            'winner': tds[a+2].get_text(),\n",
    "            'margin': tds[a+3].get_text(),\n",
    "            'ground': tds[a+4].get_text(),\n",
    "            'matchDate': tds[a+5].get_text(),\n",
    "            'scorecard': tds[a+6].get_text()\n",
    "        })\n",
    "        a = a+7\n",
    "\n",
    "for row in matchSummary:\n",
    "    print(row)\n",
    "\n",
    "result = {\"matchSummary\": matchSummary}\n"
   ]
  },
  {
   "cell_type": "code",
   "execution_count": null,
   "id": "f57bb305-0408-4798-828f-a01ebfea83d1",
   "metadata": {},
   "outputs": [],
   "source": [
    "\n",
    "import json\n",
    "json_file_path = 'match_data.json'\n",
    "\n",
    "\n",
    "with open(json_file_path, 'w') as json_file:\n",
    "    json.dump(result, json_file, indent=4)\n"
   ]
  },
  {
   "cell_type": "code",
   "execution_count": null,
   "id": "efbd448d-71ac-47ea-b14e-fe4370b48a09",
   "metadata": {},
   "outputs": [],
   "source": []
  }
 ],
 "metadata": {
  "kernelspec": {
   "display_name": "Python 3 (ipykernel)",
   "language": "python",
   "name": "python3"
  },
  "language_info": {
   "codemirror_mode": {
    "name": "ipython",
    "version": 3
   },
   "file_extension": ".py",
   "mimetype": "text/x-python",
   "name": "python",
   "nbconvert_exporter": "python",
   "pygments_lexer": "ipython3",
   "version": "3.11.3"
  }
 },
 "nbformat": 4,
 "nbformat_minor": 5
}
