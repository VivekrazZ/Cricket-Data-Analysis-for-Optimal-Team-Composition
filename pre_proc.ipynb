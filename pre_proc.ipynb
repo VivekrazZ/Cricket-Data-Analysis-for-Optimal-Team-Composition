{
 "cells": [
  {
   "cell_type": "code",
   "execution_count": 8,
   "id": "358f0968-a16d-4263-a934-ef43c48e6e0d",
   "metadata": {},
   "outputs": [],
   "source": [
    "import pandas as pd\n",
    "import json"
   ]
  },
  {
   "cell_type": "code",
   "execution_count": null,
   "id": "a5235dd2-5747-40e6-8316-649c5fcd733a",
   "metadata": {},
   "outputs": [],
   "source": [
    "with open('data_json/match_data.json') as f:\n",
    "    data = json.load(f)\n",
    "    \n",
    "df_match = pd.DataFrame(data[0]['matchSummary'])\n",
    "df_match.head(11)"
   ]
  },
  {
   "cell_type": "code",
   "execution_count": null,
   "id": "e433a55e-676b-49ae-85c5-f524a0fdeaa3",
   "metadata": {},
   "outputs": [],
   "source": [
    "df_match.rename({'scorecard': 'match_id'}, axis = 1, inplace = True)\n",
    "df_match.head(11)"
   ]
  },
  {
   "cell_type": "code",
   "execution_count": null,
   "id": "5cc6b115-1bcf-464f-83b9-1bc1d151d831",
   "metadata": {},
   "outputs": [],
   "source": [
    "match_ids_dict = {}\n",
    "\n",
    "for index, row in df_match.iterrows():\n",
    "    key1 = row['team1'] + ' Vs ' + row['team2']\n",
    "    key2 = row['team2'] + ' Vs ' + row['team1']\n",
    "    match_ids_dict[key1] = row['match_id']\n",
    "    match_ids_dict[key2] = row['match_id']\n"
   ]
  },
  {
   "cell_type": "markdown",
   "id": "fd298cbc-9730-4fe7-87af-289b81008648",
   "metadata": {},
   "source": [
    "***BATTING DATA***"
   ]
  },
  {
   "cell_type": "code",
   "execution_count": null,
   "id": "e047a7fe-aca5-4d95-8765-12bbd4c900c4",
   "metadata": {
    "scrolled": true
   },
   "outputs": [],
   "source": [
    "with open('data_json/batting_data.json') as f:\n",
    "    data = json.load(f)\n",
    "    all_records = []\n",
    "    for rec in data:\n",
    "        all_records.extend(rec['battingSummary'])\n",
    "  \n",
    "df_batting = pd.DataFrame(all_records)\n",
    "df_batting['out/not_out'] = df_batting.dismissal.apply(lambda x: \"out\" if len(x)>0 else \"not_out\")\n",
    "df_batting.head(11)"
   ]
  },
  {
   "cell_type": "code",
   "execution_count": null,
   "id": "59fd524b-4f7f-4541-8f73-aa6d4e151db4",
   "metadata": {},
   "outputs": [],
   "source": [
    "\n",
    "df_batting['out/not_out'] = df_batting.dismissal.apply(lambda x: \"out\" if len(x)>0 else \"not_out\")\n",
    "\n",
    "df_batting['batsmanName'] = df_batting['batsmanName'].apply(lambda x: x.replace('â€', ''))\n",
    "df_batting['batsmanName'] = df_batting['batsmanName'].apply(lambda x: x.replace('\\xa0', ''))\n",
    "\n",
    "df_batting['match_id'] = df_batting['match'].map(match_ids_dict)\n",
    "df_batting.head(11)"
   ]
  },
  {
   "cell_type": "code",
   "execution_count": null,
   "id": "c6fde29d-bd59-46cf-9c6e-d283df517478",
   "metadata": {},
   "outputs": [],
   "source": [
    "df_batting.drop(columns=[\"dismissal\"], inplace=True)\n",
    "df_batting.head(11)"
   ]
  },
  {
   "cell_type": "raw",
   "id": "145d9e13-59e6-4d6f-91da-41863f0ca255",
   "metadata": {},
   "source": [
    "df_batting.to_csv('batting_tmp.csv', index = False)\n",
    "df_match.to_csv('match_tmp.csv', index = False)"
   ]
  },
  {
   "cell_type": "markdown",
   "id": "d2669df4-2a94-491a-b320-1ffc8946a3d5",
   "metadata": {},
   "source": [
    "*****BOWLING DATA*****"
   ]
  },
  {
   "cell_type": "code",
   "execution_count": null,
   "id": "b300cb99-6f34-421d-a415-945cfc238b3a",
   "metadata": {},
   "outputs": [],
   "source": [
    "with open('data_json/bowling_data.json') as f:\n",
    "    data = json.load(f)\n",
    "    all_records = []\n",
    "    for rec in data:\n",
    "        all_records.extend(rec['bowlingSummary'])\n",
    "\n",
    "all_records[:2]"
   ]
  },
  {
   "cell_type": "code",
   "execution_count": null,
   "id": "8b34c970-68a7-4239-807e-eec6a0888436",
   "metadata": {},
   "outputs": [],
   "source": [
    "df_bowling = pd.DataFrame(all_records)\n",
    "print(df_bowling.shape)\n",
    "df_bowling.head(11)"
   ]
  },
  {
   "cell_type": "code",
   "execution_count": null,
   "id": "4b9a9722-e9e3-4a68-9df0-bcb301be8398",
   "metadata": {},
   "outputs": [],
   "source": [
    "df_bowling['match_id'] = df_bowling['match'].map(match_ids_dict)\n",
    "df_bowling.head(11)"
   ]
  },
  {
   "cell_type": "code",
   "execution_count": null,
   "id": "d13ebcc4-67e2-405b-be61-a805a7215ea5",
   "metadata": {},
   "outputs": [],
   "source": [
    "df_bowling.to_csv('boling_tmp.csv', index = False)"
   ]
  },
  {
   "cell_type": "markdown",
   "id": "ce11608e-3bea-45bb-a894-bb8b99f550b6",
   "metadata": {},
   "source": [
    "***PLAYER DATA***"
   ]
  },
  {
   "cell_type": "code",
   "execution_count": null,
   "id": "2810331a-4f1b-40e4-b887-b23e79921cec",
   "metadata": {},
   "outputs": [],
   "source": [
    "with open('data_json/player_data.json') as f:\n",
    "    data = json.load(f)\n",
    "    \n",
    "df_players = pd.DataFrame(data)\n",
    "\n",
    "print(df_players.shape)\n",
    "df_players.head(11)"
   ]
  },
  {
   "cell_type": "code",
   "execution_count": null,
   "id": "2c3750b2-7ebd-4d7a-a234-279499289b2a",
   "metadata": {},
   "outputs": [],
   "source": [
    "df_players['name'] = df_players['name'].apply(lambda x: x.replace('â€', ''))\n",
    "df_players['name'] = df_players['name'].apply(lambda x: x.replace('†', ''))\n",
    "df_players['name'] = df_players['name'].apply(lambda x: x.replace('\\xa0', ''))\n",
    "df_players.head(11)"
   ]
  },
  {
   "cell_type": "code",
   "execution_count": null,
   "id": "88389c12-b42e-479b-b550-13de3bfb4560",
   "metadata": {},
   "outputs": [],
   "source": [
    "df_players[df_players['team'] == 'India']"
   ]
  },
  {
   "cell_type": "code",
   "execution_count": null,
   "id": "22f1c894-ae2c-4dee-b7bb-b25caf65fa63",
   "metadata": {},
   "outputs": [],
   "source": [
    "df_players.to_csv('player_temp.csv', index = False)"
   ]
  },
  {
   "cell_type": "code",
   "execution_count": null,
   "id": "c703f036-e72a-45f3-aca1-da473e2ecf8c",
   "metadata": {},
   "outputs": [],
   "source": []
  }
 ],
 "metadata": {
  "kernelspec": {
   "display_name": "Python 3 (ipykernel)",
   "language": "python",
   "name": "python3"
  },
  "language_info": {
   "codemirror_mode": {
    "name": "ipython",
    "version": 3
   },
   "file_extension": ".py",
   "mimetype": "text/x-python",
   "name": "python",
   "nbconvert_exporter": "python",
   "pygments_lexer": "ipython3",
   "version": "3.11.3"
  }
 },
 "nbformat": 4,
 "nbformat_minor": 5
}
